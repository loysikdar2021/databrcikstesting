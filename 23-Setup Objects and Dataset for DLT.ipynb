{
 "cells": [
  {
   "cell_type": "markdown",
   "metadata": {
    "application/vnd.databricks.v1+cell": {
     "cellMetadata": {
      "byteLimit": 2048000,
      "rowLimit": 10000
     },
     "inputWidgets": {},
     "nuid": "82115699-24c5-4743-a1cd-83404dba8265",
     "showTitle": false,
     "title": ""
    }
   },
   "source": [
    "#####1. Create a multinode shared mode cluster to work with DLT generated tables"
   ]
  },
  {
   "cell_type": "markdown",
   "metadata": {
    "application/vnd.databricks.v1+cell": {
     "cellMetadata": {
      "byteLimit": 2048000,
      "rowLimit": 10000
     },
     "inputWidgets": {},
     "nuid": "29c7eecc-2da1-4b0c-a0f6-208c69160f96",
     "showTitle": false,
     "title": ""
    }
   },
   "source": [
    "#####2. Cleanup previous runs"
   ]
  },
  {
   "cell_type": "code",
   "execution_count": 0,
   "metadata": {
    "application/vnd.databricks.v1+cell": {
     "cellMetadata": {
      "byteLimit": 2048000,
      "rowLimit": 10000
     },
     "inputWidgets": {},
     "nuid": "aaee8aa9-acdd-4d08-a2af-85125e1ef235",
     "showTitle": false,
     "title": ""
    }
   },
   "outputs": [],
   "source": [
    "%run ../utils/cleanup"
   ]
  },
  {
   "cell_type": "markdown",
   "metadata": {
    "application/vnd.databricks.v1+cell": {
     "cellMetadata": {
      "byteLimit": 2048000,
      "rowLimit": 10000
     },
     "inputWidgets": {},
     "nuid": "925c3734-fec0-4eec-837e-d32578dc200b",
     "showTitle": false,
     "title": ""
    }
   },
   "source": [
    "#####3. Setup the catalog and external location"
   ]
  },
  {
   "cell_type": "code",
   "execution_count": 0,
   "metadata": {
    "application/vnd.databricks.v1+cell": {
     "cellMetadata": {
      "byteLimit": 2048000,
      "rowLimit": 10000
     },
     "inputWidgets": {},
     "nuid": "3fc7bec8-eea3-45f4-9f80-94507e7b07cd",
     "showTitle": false,
     "title": ""
    }
   },
   "outputs": [],
   "source": [
    "# %sql\n",
    "# CREATE CATALOG IF NOT EXISTS dev;\n",
    "# CREATE DATABASE IF NOT EXISTS ls_dev.ls_demo_db;\n",
    "\n",
    "# CREATE EXTERNAL LOCATION IF NOT EXISTS external_data\n",
    "# URL 'abfss://dbfs-container@prashantsa.dfs.core.windows.net/dataset_ch9'\n",
    "# WITH (CREDENTIAL `scholarnest-storage-credential`);\n",
    "\n",
    "# CREATE EXTERNAL VOLUME IF NOT EXISTS ls_dev.ls_demo_db.landing_zone\n",
    "# LOCATION 'abfss://dbfs-container@prashantsa.dfs.core.windows.net/dataset_ch9';"
   ]
  },
  {
   "cell_type": "markdown",
   "metadata": {
    "application/vnd.databricks.v1+cell": {
     "cellMetadata": {
      "byteLimit": 2048000,
      "rowLimit": 10000
     },
     "inputWidgets": {},
     "nuid": "585a53ee-fb28-4554-be1d-91c78cbfaeac",
     "showTitle": false,
     "title": ""
    }
   },
   "source": [
    "#####4. Ingest some data"
   ]
  },
  {
   "cell_type": "code",
   "execution_count": 0,
   "metadata": {
    "application/vnd.databricks.v1+cell": {
     "cellMetadata": {
      "byteLimit": 2048000,
      "rowLimit": 10000
     },
     "inputWidgets": {},
     "nuid": "8d4bdbd4-10dd-4250-ade8-78605c59f408",
     "showTitle": false,
     "title": ""
    }
   },
   "outputs": [
    {
     "output_type": "execute_result",
     "data": {
      "text/plain": [
       "\u001B[36mres4\u001B[39m: \u001B[32mBoolean\u001B[39m = \u001B[32mtrue\u001B[39m"
      ]
     },
     "execution_count": 5,
     "metadata": {},
     "output_type": "execute_result"
    }
   ],
   "source": [
    "%fs \n",
    "mkdirs /Volumes/ls_dev/ls_demo_db/landing_zone/customers/"
   ]
  },
  {
   "cell_type": "code",
   "execution_count": 0,
   "metadata": {
    "application/vnd.databricks.v1+cell": {
     "cellMetadata": {
      "byteLimit": 2048000,
      "rowLimit": 10000
     },
     "inputWidgets": {},
     "nuid": "a2a31a05-8f5c-418e-8a16-7efb9cd55837",
     "showTitle": false,
     "title": ""
    }
   },
   "outputs": [
    {
     "output_type": "execute_result",
     "data": {
      "text/plain": [
       "\u001B[36mres5\u001B[39m: \u001B[32mBoolean\u001B[39m = \u001B[32mtrue\u001B[39m"
      ]
     },
     "execution_count": 6,
     "metadata": {},
     "output_type": "execute_result"
    }
   ],
   "source": [
    "%fs \n",
    "mkdirs /Volumes/ls_dev/ls_demo_db/landing_zone/invoices/"
   ]
  },
  {
   "cell_type": "code",
   "execution_count": 0,
   "metadata": {
    "application/vnd.databricks.v1+cell": {
     "cellMetadata": {
      "byteLimit": 2048000,
      "rowLimit": 10000
     },
     "inputWidgets": {},
     "nuid": "5b563ebb-60d6-443c-b813-a80254d67dab",
     "showTitle": false,
     "title": ""
    }
   },
   "outputs": [
    {
     "output_type": "execute_result",
     "data": {
      "text/plain": [
       "\u001B[36mres7\u001B[39m: \u001B[32mBoolean\u001B[39m = \u001B[32mtrue\u001B[39m"
      ]
     },
     "execution_count": 8,
     "metadata": {},
     "output_type": "execute_result"
    }
   ],
   "source": [
    "%fs \n",
    "cp /Volumes/ls_dev/ls_demo_db/landing_zone/dataset_ch9/customers_1.csv /Volumes/ls_dev/ls_demo_db/landing_zone/customers"
   ]
  },
  {
   "cell_type": "code",
   "execution_count": 0,
   "metadata": {
    "application/vnd.databricks.v1+cell": {
     "cellMetadata": {
      "byteLimit": 2048000,
      "rowLimit": 10000
     },
     "inputWidgets": {},
     "nuid": "fe0731b5-00fb-42ef-bbcb-2f56fad09f48",
     "showTitle": false,
     "title": ""
    }
   },
   "outputs": [
    {
     "output_type": "execute_result",
     "data": {
      "text/plain": [
       "\u001B[36mres8\u001B[39m: \u001B[32mBoolean\u001B[39m = \u001B[32mtrue\u001B[39m"
      ]
     },
     "execution_count": 9,
     "metadata": {},
     "output_type": "execute_result"
    }
   ],
   "source": [
    "%fs \n",
    "cp /Volumes/ls_dev/ls_demo_db/landing_zone/dataset_ch9/invoices_2021.csv /Volumes/ls_dev/ls_demo_db/landing_zone/invoices"
   ]
  },
  {
   "cell_type": "code",
   "execution_count": 0,
   "metadata": {
    "application/vnd.databricks.v1+cell": {
     "cellMetadata": {
      "byteLimit": 2048000,
      "rowLimit": 10000
     },
     "inputWidgets": {},
     "nuid": "fbdea64e-a115-4d02-86c3-cbe49ef74ce4",
     "showTitle": false,
     "title": ""
    }
   },
   "outputs": [
    {
     "output_type": "execute_result",
     "data": {
      "text/plain": [
       "\u001B[36mres9\u001B[39m: \u001B[32mBoolean\u001B[39m = \u001B[32mtrue\u001B[39m"
      ]
     },
     "execution_count": 10,
     "metadata": {},
     "output_type": "execute_result"
    }
   ],
   "source": [
    "%fs \n",
    "cp /Volumes/ls_dev/ls_demo_db/landing_zone/dataset_ch9/invoices_2022.csv /Volumes/ls_dev/ls_demo_db/landing_zone/invoices"
   ]
  },
  {
   "cell_type": "markdown",
   "metadata": {
    "application/vnd.databricks.v1+cell": {
     "cellMetadata": {
      "byteLimit": 2048000,
      "rowLimit": 10000
     },
     "inputWidgets": {},
     "nuid": "e5df5c99-2c77-4eaa-8955-30edca7156e7",
     "showTitle": false,
     "title": ""
    }
   },
   "source": [
    "#####5. Create and run the DLT pipeline\n",
    "\n",
    "Run the script in '24-Creating DLT Workload in SQL'"
   ]
  },
  {
   "cell_type": "markdown",
   "metadata": {
    "application/vnd.databricks.v1+cell": {
     "cellMetadata": {
      "byteLimit": 2048000,
      "rowLimit": 10000
     },
     "inputWidgets": {},
     "nuid": "5d28f87b-f359-4ba3-8ac7-1b9a422667fd",
     "showTitle": false,
     "title": ""
    }
   },
   "source": [
    "#####6. Check the final results table"
   ]
  },
  {
   "cell_type": "code",
   "execution_count": 0,
   "metadata": {
    "application/vnd.databricks.v1+cell": {
     "cellMetadata": {
      "byteLimit": 2048000,
      "implicitDf": true,
      "rowLimit": 10000
     },
     "inputWidgets": {},
     "nuid": "2f05cd65-7cc9-44f6-985f-f031b19f86f2",
     "showTitle": false,
     "title": ""
    }
   },
   "outputs": [
    {
     "output_type": "display_data",
     "data": {
      "text/html": [
       "<style scoped>\n",
       "  .table-result-container {\n",
       "    max-height: 300px;\n",
       "    overflow: auto;\n",
       "  }\n",
       "  table, th, td {\n",
       "    border: 1px solid black;\n",
       "    border-collapse: collapse;\n",
       "  }\n",
       "  th, td {\n",
       "    padding: 5px;\n",
       "  }\n",
       "  th {\n",
       "    text-align: left;\n",
       "  }\n",
       "</style><div class='table-result-container'><table class='table-result'><thead style='background-color: white'><tr><th>country</th><th>invoice_year</th><th>invoice_month</th><th>invoice_date</th><th>total_sales</th></tr></thead><tbody><tr><td>United Kingdom</td><td>2022</td><td>5</td><td>2022-05-09</td><td>198.91</td></tr><tr><td>United Kingdom</td><td>2022</td><td>1</td><td>2022-01-02</td><td>59.2</td></tr><tr><td>United Kingdom</td><td>2022</td><td>5</td><td>2022-05-30</td><td>288.5</td></tr><tr><td>United Kingdom</td><td>2022</td><td>2</td><td>2022-02-23</td><td>22.2</td></tr><tr><td>United Kingdom</td><td>2022</td><td>5</td><td>2022-05-26</td><td>1056.63</td></tr><tr><td>United Kingdom</td><td>2022</td><td>5</td><td>2022-05-03</td><td>106.2</td></tr><tr><td>United Kingdom</td><td>2022</td><td>2</td><td>2022-02-02</td><td>244.46</td></tr><tr><td>United Kingdom</td><td>2022</td><td>4</td><td>2022-04-28</td><td>572.38</td></tr><tr><td>United Kingdom</td><td>2022</td><td>1</td><td>2022-01-07</td><td>230.56</td></tr><tr><td>United Kingdom</td><td>2022</td><td>3</td><td>2022-03-03</td><td>312.8</td></tr><tr><td>United Kingdom</td><td>2022</td><td>3</td><td>2022-03-22</td><td>204.15</td></tr><tr><td>United Kingdom</td><td>2022</td><td>1</td><td>2022-01-23</td><td>22.2</td></tr><tr><td>United Kingdom</td><td>2022</td><td>4</td><td>2022-04-07</td><td>193.78</td></tr></tbody></table></div>"
      ]
     },
     "metadata": {
      "application/vnd.databricks.v1+output": {
       "addedWidgets": {},
       "aggData": [],
       "aggError": "",
       "aggOverflow": false,
       "aggSchema": [],
       "aggSeriesLimitReached": false,
       "aggType": "",
       "arguments": {},
       "columnCustomDisplayInfos": {},
       "data": [
        [
         "United Kingdom",
         2022,
         5,
         "2022-05-09",
         198.91
        ],
        [
         "United Kingdom",
         2022,
         1,
         "2022-01-02",
         59.2
        ],
        [
         "United Kingdom",
         2022,
         5,
         "2022-05-30",
         288.5
        ],
        [
         "United Kingdom",
         2022,
         2,
         "2022-02-23",
         22.2
        ],
        [
         "United Kingdom",
         2022,
         5,
         "2022-05-26",
         1056.63
        ],
        [
         "United Kingdom",
         2022,
         5,
         "2022-05-03",
         106.2
        ],
        [
         "United Kingdom",
         2022,
         2,
         "2022-02-02",
         244.46
        ],
        [
         "United Kingdom",
         2022,
         4,
         "2022-04-28",
         572.38
        ],
        [
         "United Kingdom",
         2022,
         1,
         "2022-01-07",
         230.56
        ],
        [
         "United Kingdom",
         2022,
         3,
         "2022-03-03",
         312.8
        ],
        [
         "United Kingdom",
         2022,
         3,
         "2022-03-22",
         204.15
        ],
        [
         "United Kingdom",
         2022,
         1,
         "2022-01-23",
         22.2
        ],
        [
         "United Kingdom",
         2022,
         4,
         "2022-04-07",
         193.78
        ]
       ],
       "datasetInfos": [],
       "dbfsResultPath": null,
       "isJsonSchema": true,
       "metadata": {
        "dataframeName": "_sqldf",
        "executionCount": 1
       },
       "overflow": false,
       "plotOptions": {
        "customPlotOptions": {},
        "displayType": "table",
        "pivotAggregation": null,
        "pivotColumns": null,
        "xColumns": null,
        "yColumns": null
       },
       "removedWidgets": [],
       "schema": [
        {
         "metadata": "{}",
         "name": "country",
         "type": "\"string\""
        },
        {
         "metadata": "{}",
         "name": "invoice_year",
         "type": "\"integer\""
        },
        {
         "metadata": "{}",
         "name": "invoice_month",
         "type": "\"integer\""
        },
        {
         "metadata": "{}",
         "name": "invoice_date",
         "type": "\"date\""
        },
        {
         "metadata": "{}",
         "name": "total_sales",
         "type": "\"double\""
        }
       ],
       "type": "table"
      }
     },
     "output_type": "display_data"
    }
   ],
   "source": [
    "%sql\n",
    "select * from ls_dev.ls_demo_db.daily_sales_uk_2022"
   ]
  },
  {
   "cell_type": "code",
   "execution_count": 0,
   "metadata": {
    "application/vnd.databricks.v1+cell": {
     "cellMetadata": {
      "byteLimit": 2048000,
      "implicitDf": true,
      "rowLimit": 10000
     },
     "inputWidgets": {},
     "nuid": "c687fcd8-e52a-495c-ba79-5c9e71edbce5",
     "showTitle": false,
     "title": ""
    }
   },
   "outputs": [
    {
     "output_type": "display_data",
     "data": {
      "text/html": [
       "<style scoped>\n",
       "  .table-result-container {\n",
       "    max-height: 300px;\n",
       "    overflow: auto;\n",
       "  }\n",
       "  table, th, td {\n",
       "    border: 1px solid black;\n",
       "    border-collapse: collapse;\n",
       "  }\n",
       "  th, td {\n",
       "    padding: 5px;\n",
       "  }\n",
       "  th {\n",
       "    text-align: left;\n",
       "  }\n",
       "</style><div class='table-result-container'><table class='table-result'><thead style='background-color: white'><tr><th>col_name</th><th>data_type</th><th>comment</th></tr></thead><tbody><tr><td>country</td><td>string</td><td>null</td></tr><tr><td>invoice_year</td><td>int</td><td>null</td></tr><tr><td>invoice_month</td><td>int</td><td>null</td></tr><tr><td>invoice_date</td><td>date</td><td>null</td></tr><tr><td>total_sales</td><td>double</td><td>null</td></tr><tr><td></td><td></td><td></td></tr><tr><td># Detailed Table Information</td><td></td><td></td></tr><tr><td>Catalog</td><td>ls_dev</td><td></td></tr><tr><td>Database</td><td>ls_demo_db</td><td></td></tr><tr><td>Table</td><td>daily_sales_uk_2022</td><td></td></tr><tr><td>Owner</td><td>loy.sikdar@outlook.com</td><td></td></tr><tr><td>Created Time</td><td>Fri Sep 27 13:21:42 UTC 2024</td><td></td></tr><tr><td>Last Access</td><td>UNKNOWN</td><td></td></tr><tr><td>Created By</td><td>Spark </td><td></td></tr><tr><td>Type</td><td>MATERIALIZED_VIEW</td><td></td></tr><tr><td>Table Properties</td><td>[pipelines.pipelineId=7fee8815-8b39-4b6b-bed7-46cb8d7eea95]</td><td></td></tr><tr><td>Location</td><td>abfss://unity-catalog-storage@dbstoragew3wfr2o2ybhc6.dfs.core.windows.net/2945833063087747/__unitystorage/schemas/458abe71-1e97-4f1f-8172-1d91faee2b4e/tables/4b1f1b9b-7f50-49c7-b449-e3d1387aba17</td><td></td></tr><tr><td>Total Size (bytes)</td><td>1847</td><td></td></tr><tr><td></td><td></td><td></td></tr><tr><td># Refresh Information</td><td></td><td></td></tr><tr><td>Last Refreshed</td><td>WARNING: Refresh information is not available</td><td></td></tr><tr><td>Last Refresh Type</td><td>WARNING: Refresh information is not available</td><td></td></tr></tbody></table></div>"
      ]
     },
     "metadata": {
      "application/vnd.databricks.v1+output": {
       "addedWidgets": {},
       "aggData": [],
       "aggError": "",
       "aggOverflow": false,
       "aggSchema": [],
       "aggSeriesLimitReached": false,
       "aggType": "",
       "arguments": {},
       "columnCustomDisplayInfos": {},
       "data": [
        [
         "country",
         "string",
         null
        ],
        [
         "invoice_year",
         "int",
         null
        ],
        [
         "invoice_month",
         "int",
         null
        ],
        [
         "invoice_date",
         "date",
         null
        ],
        [
         "total_sales",
         "double",
         null
        ],
        [
         "",
         "",
         ""
        ],
        [
         "# Detailed Table Information",
         "",
         ""
        ],
        [
         "Catalog",
         "ls_dev",
         ""
        ],
        [
         "Database",
         "ls_demo_db",
         ""
        ],
        [
         "Table",
         "daily_sales_uk_2022",
         ""
        ],
        [
         "Owner",
         "loy.sikdar@outlook.com",
         ""
        ],
        [
         "Created Time",
         "Fri Sep 27 13:21:42 UTC 2024",
         ""
        ],
        [
         "Last Access",
         "UNKNOWN",
         ""
        ],
        [
         "Created By",
         "Spark ",
         ""
        ],
        [
         "Type",
         "MATERIALIZED_VIEW",
         ""
        ],
        [
         "Table Properties",
         "[pipelines.pipelineId=7fee8815-8b39-4b6b-bed7-46cb8d7eea95]",
         ""
        ],
        [
         "Location",
         "abfss://unity-catalog-storage@dbstoragew3wfr2o2ybhc6.dfs.core.windows.net/2945833063087747/__unitystorage/schemas/458abe71-1e97-4f1f-8172-1d91faee2b4e/tables/4b1f1b9b-7f50-49c7-b449-e3d1387aba17",
         ""
        ],
        [
         "Total Size (bytes)",
         "1847",
         ""
        ],
        [
         "",
         "",
         ""
        ],
        [
         "# Refresh Information",
         "",
         ""
        ],
        [
         "Last Refreshed",
         "WARNING: Refresh information is not available",
         ""
        ],
        [
         "Last Refresh Type",
         "WARNING: Refresh information is not available",
         ""
        ]
       ],
       "datasetInfos": [],
       "dbfsResultPath": null,
       "isJsonSchema": true,
       "metadata": {
        "dataframeName": "_sqldf",
        "executionCount": 2
       },
       "overflow": false,
       "plotOptions": {
        "customPlotOptions": {},
        "displayType": "table",
        "pivotAggregation": null,
        "pivotColumns": null,
        "xColumns": null,
        "yColumns": null
       },
       "removedWidgets": [],
       "schema": [
        {
         "metadata": "{\"comment\":\"name of the column\"}",
         "name": "col_name",
         "type": "\"string\""
        },
        {
         "metadata": "{\"comment\":\"data type of the column\"}",
         "name": "data_type",
         "type": "\"string\""
        },
        {
         "metadata": "{\"comment\":\"comment of the column\"}",
         "name": "comment",
         "type": "\"string\""
        }
       ],
       "type": "table"
      }
     },
     "output_type": "display_data"
    }
   ],
   "source": [
    "%sql\n",
    "describe extended ls_dev.ls_demo_db.daily_sales_uk_2022"
   ]
  },
  {
   "cell_type": "markdown",
   "metadata": {
    "application/vnd.databricks.v1+cell": {
     "cellMetadata": {
      "byteLimit": 2048000,
      "rowLimit": 10000
     },
     "inputWidgets": {},
     "nuid": "d644a5d7-9fcd-413d-84a4-702d9a949779",
     "showTitle": false,
     "title": ""
    }
   },
   "source": [
    "#####7. Ingest some more data"
   ]
  },
  {
   "cell_type": "code",
   "execution_count": 0,
   "metadata": {
    "application/vnd.databricks.v1+cell": {
     "cellMetadata": {
      "byteLimit": 2048000,
      "rowLimit": 10000
     },
     "inputWidgets": {},
     "nuid": "14a6eb56-2cfa-4705-a836-6d517ce5f288",
     "showTitle": false,
     "title": ""
    }
   },
   "outputs": [
    {
     "output_type": "execute_result",
     "data": {
      "text/plain": [
       "\u001B[36mres5\u001B[39m: \u001B[32mBoolean\u001B[39m = \u001B[32mtrue\u001B[39m"
      ]
     },
     "execution_count": 6,
     "metadata": {},
     "output_type": "execute_result"
    }
   ],
   "source": [
    "%fs \n",
    "cp /Volumes/ls_dev/ls_demo_db/landing_zone/dataset_ch9/customers_2.csv /Volumes/ls_dev/ls_demo_db/landing_zone/customers"
   ]
  },
  {
   "cell_type": "code",
   "execution_count": 0,
   "metadata": {
    "application/vnd.databricks.v1+cell": {
     "cellMetadata": {
      "byteLimit": 2048000,
      "rowLimit": 10000
     },
     "inputWidgets": {},
     "nuid": "787a920a-1199-48db-b040-a8cab6db9a37",
     "showTitle": false,
     "title": ""
    }
   },
   "outputs": [
    {
     "output_type": "execute_result",
     "data": {
      "text/plain": [
       "\u001B[36mres6\u001B[39m: \u001B[32mBoolean\u001B[39m = \u001B[32mtrue\u001B[39m"
      ]
     },
     "execution_count": 7,
     "metadata": {},
     "output_type": "execute_result"
    }
   ],
   "source": [
    "%fs \n",
    "cp /Volumes/ls_dev/ls_demo_db/landing_zone/dataset_ch9/invoices_01-06-2022.csv /Volumes/ls_dev/ls_demo_db/landing_zone/invoices"
   ]
  },
  {
   "cell_type": "code",
   "execution_count": 0,
   "metadata": {
    "application/vnd.databricks.v1+cell": {
     "cellMetadata": {
      "byteLimit": 2048000,
      "rowLimit": 10000
     },
     "inputWidgets": {},
     "nuid": "7d46e922-6543-4945-9320-900c7dd177b2",
     "showTitle": false,
     "title": ""
    }
   },
   "outputs": [
    {
     "output_type": "execute_result",
     "data": {
      "text/plain": [
       "\u001B[36mres7\u001B[39m: \u001B[32mBoolean\u001B[39m = \u001B[32mtrue\u001B[39m"
      ]
     },
     "execution_count": 8,
     "metadata": {},
     "output_type": "execute_result"
    }
   ],
   "source": [
    "%fs \n",
    "cp /Volumes/ls_dev/ls_demo_db/landing_zone/dataset_ch9/invoices_02-06-2022.csv /Volumes/ls_dev/ls_demo_db/landing_zone/invoices"
   ]
  },
  {
   "cell_type": "code",
   "execution_count": 0,
   "metadata": {
    "application/vnd.databricks.v1+cell": {
     "cellMetadata": {
      "byteLimit": 2048000,
      "rowLimit": 10000
     },
     "inputWidgets": {},
     "nuid": "fb262908-858e-4da4-835a-fa1c4aa5deeb",
     "showTitle": false,
     "title": ""
    }
   },
   "outputs": [
    {
     "output_type": "execute_result",
     "data": {
      "text/plain": [
       "\u001B[36mres8\u001B[39m: \u001B[32mBoolean\u001B[39m = \u001B[32mtrue\u001B[39m"
      ]
     },
     "execution_count": 9,
     "metadata": {},
     "output_type": "execute_result"
    }
   ],
   "source": [
    "%fs \n",
    "cp /Volumes/ls_dev/ls_demo_db/landing_zone/dataset_ch9/invoices_03-06-2022.csv /Volumes/ls_dev/ls_demo_db/landing_zone/invoices"
   ]
  },
  {
   "cell_type": "markdown",
   "metadata": {
    "application/vnd.databricks.v1+cell": {
     "cellMetadata": {
      "byteLimit": 2048000,
      "rowLimit": 10000
     },
     "inputWidgets": {},
     "nuid": "5fe50baa-ecab-40f1-94b9-89107e44c80e",
     "showTitle": false,
     "title": ""
    }
   },
   "source": [
    "#####8. Run the DLT pipeline"
   ]
  },
  {
   "cell_type": "markdown",
   "metadata": {
    "application/vnd.databricks.v1+cell": {
     "cellMetadata": {
      "byteLimit": 2048000,
      "rowLimit": 10000
     },
     "inputWidgets": {},
     "nuid": "70d28ff4-013a-42ca-b565-5281c9f691a0",
     "showTitle": false,
     "title": ""
    }
   },
   "source": [
    "#####9. Check the results table"
   ]
  },
  {
   "cell_type": "code",
   "execution_count": 0,
   "metadata": {
    "application/vnd.databricks.v1+cell": {
     "cellMetadata": {
      "byteLimit": 2048000,
      "implicitDf": true,
      "rowLimit": 10000
     },
     "inputWidgets": {},
     "nuid": "1fb3a005-ab63-4c93-9448-95550abb5ce3",
     "showTitle": false,
     "title": ""
    }
   },
   "outputs": [
    {
     "output_type": "display_data",
     "data": {
      "text/html": [
       "<style scoped>\n",
       "  .table-result-container {\n",
       "    max-height: 300px;\n",
       "    overflow: auto;\n",
       "  }\n",
       "  table, th, td {\n",
       "    border: 1px solid black;\n",
       "    border-collapse: collapse;\n",
       "  }\n",
       "  th, td {\n",
       "    padding: 5px;\n",
       "  }\n",
       "  th {\n",
       "    text-align: left;\n",
       "  }\n",
       "</style><div class='table-result-container'><table class='table-result'><thead style='background-color: white'><tr><th>country</th><th>invoice_year</th><th>invoice_month</th><th>invoice_date</th><th>total_sales</th></tr></thead><tbody><tr><td>United Kingdom</td><td>2022</td><td>6</td><td>2022-06-02</td><td>851.54</td></tr><tr><td>United Kingdom</td><td>2022</td><td>6</td><td>2022-06-03</td><td>111.98</td></tr><tr><td>United Kingdom</td><td>2022</td><td>6</td><td>2022-06-01</td><td>5668.32</td></tr><tr><td>United Kingdom</td><td>2022</td><td>5</td><td>2022-05-09</td><td>198.91</td></tr><tr><td>United Kingdom</td><td>2022</td><td>1</td><td>2022-01-02</td><td>59.2</td></tr><tr><td>United Kingdom</td><td>2022</td><td>5</td><td>2022-05-30</td><td>288.5</td></tr><tr><td>United Kingdom</td><td>2022</td><td>2</td><td>2022-02-23</td><td>22.2</td></tr><tr><td>United Kingdom</td><td>2022</td><td>5</td><td>2022-05-26</td><td>1056.63</td></tr><tr><td>United Kingdom</td><td>2022</td><td>5</td><td>2022-05-03</td><td>106.2</td></tr><tr><td>United Kingdom</td><td>2022</td><td>2</td><td>2022-02-02</td><td>244.46</td></tr><tr><td>United Kingdom</td><td>2022</td><td>4</td><td>2022-04-28</td><td>572.38</td></tr><tr><td>United Kingdom</td><td>2022</td><td>1</td><td>2022-01-07</td><td>230.56</td></tr><tr><td>United Kingdom</td><td>2022</td><td>3</td><td>2022-03-03</td><td>312.8</td></tr><tr><td>United Kingdom</td><td>2022</td><td>3</td><td>2022-03-22</td><td>204.15</td></tr><tr><td>United Kingdom</td><td>2022</td><td>1</td><td>2022-01-23</td><td>22.2</td></tr><tr><td>United Kingdom</td><td>2022</td><td>4</td><td>2022-04-07</td><td>193.78</td></tr></tbody></table></div>"
      ]
     },
     "metadata": {
      "application/vnd.databricks.v1+output": {
       "addedWidgets": {},
       "aggData": [],
       "aggError": "",
       "aggOverflow": false,
       "aggSchema": [],
       "aggSeriesLimitReached": false,
       "aggType": "",
       "arguments": {},
       "columnCustomDisplayInfos": {},
       "data": [
        [
         "United Kingdom",
         2022,
         6,
         "2022-06-02",
         851.54
        ],
        [
         "United Kingdom",
         2022,
         6,
         "2022-06-03",
         111.98
        ],
        [
         "United Kingdom",
         2022,
         6,
         "2022-06-01",
         5668.32
        ],
        [
         "United Kingdom",
         2022,
         5,
         "2022-05-09",
         198.91
        ],
        [
         "United Kingdom",
         2022,
         1,
         "2022-01-02",
         59.2
        ],
        [
         "United Kingdom",
         2022,
         5,
         "2022-05-30",
         288.5
        ],
        [
         "United Kingdom",
         2022,
         2,
         "2022-02-23",
         22.2
        ],
        [
         "United Kingdom",
         2022,
         5,
         "2022-05-26",
         1056.63
        ],
        [
         "United Kingdom",
         2022,
         5,
         "2022-05-03",
         106.2
        ],
        [
         "United Kingdom",
         2022,
         2,
         "2022-02-02",
         244.46
        ],
        [
         "United Kingdom",
         2022,
         4,
         "2022-04-28",
         572.38
        ],
        [
         "United Kingdom",
         2022,
         1,
         "2022-01-07",
         230.56
        ],
        [
         "United Kingdom",
         2022,
         3,
         "2022-03-03",
         312.8
        ],
        [
         "United Kingdom",
         2022,
         3,
         "2022-03-22",
         204.15
        ],
        [
         "United Kingdom",
         2022,
         1,
         "2022-01-23",
         22.2
        ],
        [
         "United Kingdom",
         2022,
         4,
         "2022-04-07",
         193.78
        ]
       ],
       "datasetInfos": [],
       "dbfsResultPath": null,
       "isJsonSchema": true,
       "metadata": {
        "dataframeName": "_sqldf",
        "executionCount": 1
       },
       "overflow": false,
       "plotOptions": {
        "customPlotOptions": {},
        "displayType": "table",
        "pivotAggregation": null,
        "pivotColumns": null,
        "xColumns": null,
        "yColumns": null
       },
       "removedWidgets": [],
       "schema": [
        {
         "metadata": "{}",
         "name": "country",
         "type": "\"string\""
        },
        {
         "metadata": "{}",
         "name": "invoice_year",
         "type": "\"integer\""
        },
        {
         "metadata": "{}",
         "name": "invoice_month",
         "type": "\"integer\""
        },
        {
         "metadata": "{}",
         "name": "invoice_date",
         "type": "\"date\""
        },
        {
         "metadata": "{}",
         "name": "total_sales",
         "type": "\"double\""
        }
       ],
       "type": "table"
      }
     },
     "output_type": "display_data"
    }
   ],
   "source": [
    "%sql\n",
    "select * from ls_dev.ls_demo_db.daily_sales_uk_2022"
   ]
  },
  {
   "cell_type": "markdown",
   "metadata": {
    "application/vnd.databricks.v1+cell": {
     "cellMetadata": {
      "byteLimit": 2048000,
      "rowLimit": 10000
     },
     "inputWidgets": {},
     "nuid": "c3507745-33c4-4a6e-8ccd-f2cd1f83327d",
     "showTitle": false,
     "title": ""
    }
   },
   "source": [
    "#####10. Check your SCD2 dimension"
   ]
  },
  {
   "cell_type": "code",
   "execution_count": 0,
   "metadata": {
    "application/vnd.databricks.v1+cell": {
     "cellMetadata": {
      "byteLimit": 2048000,
      "implicitDf": true,
      "rowLimit": 10000
     },
     "inputWidgets": {},
     "nuid": "a93be71d-d85a-4d78-b5e0-d5c954e36460",
     "showTitle": false,
     "title": ""
    }
   },
   "outputs": [
    {
     "output_type": "display_data",
     "data": {
      "text/html": [
       "<style scoped>\n",
       "  .table-result-container {\n",
       "    max-height: 300px;\n",
       "    overflow: auto;\n",
       "  }\n",
       "  table, th, td {\n",
       "    border: 1px solid black;\n",
       "    border-collapse: collapse;\n",
       "  }\n",
       "  th, td {\n",
       "    padding: 5px;\n",
       "  }\n",
       "  th {\n",
       "    text-align: left;\n",
       "  }\n",
       "</style><div class='table-result-container'><table class='table-result'><thead style='background-color: white'><tr><th>customer_id</th><th>customer_name</th><th>load_time</th><th>__START_AT</th><th>__END_AT</th></tr></thead><tbody><tr><td>15311</td><td>Daphine</td><td>2024-09-27T13:21:03.142Z</td><td>2024-09-27T13:21:03.142Z</td><td>2024-09-27T14:37:21.997Z</td></tr><tr><td>15311</td><td>Daphine Trivolta</td><td>2024-09-27T14:37:21.997Z</td><td>2024-09-27T14:37:21.997Z</td><td>null</td></tr></tbody></table></div>"
      ]
     },
     "metadata": {
      "application/vnd.databricks.v1+output": {
       "addedWidgets": {},
       "aggData": [],
       "aggError": "",
       "aggOverflow": false,
       "aggSchema": [],
       "aggSeriesLimitReached": false,
       "aggType": "",
       "arguments": {},
       "columnCustomDisplayInfos": {},
       "data": [
        [
         15311,
         "Daphine",
         "2024-09-27T13:21:03.142Z",
         "2024-09-27T13:21:03.142Z",
         "2024-09-27T14:37:21.997Z"
        ],
        [
         15311,
         "Daphine Trivolta",
         "2024-09-27T14:37:21.997Z",
         "2024-09-27T14:37:21.997Z",
         null
        ]
       ],
       "datasetInfos": [],
       "dbfsResultPath": null,
       "isJsonSchema": true,
       "metadata": {
        "dataframeName": "_sqldf",
        "executionCount": 2
       },
       "overflow": false,
       "plotOptions": {
        "customPlotOptions": {},
        "displayType": "table",
        "pivotAggregation": null,
        "pivotColumns": null,
        "xColumns": null,
        "yColumns": null
       },
       "removedWidgets": [],
       "schema": [
        {
         "metadata": "{}",
         "name": "customer_id",
         "type": "\"integer\""
        },
        {
         "metadata": "{}",
         "name": "customer_name",
         "type": "\"string\""
        },
        {
         "metadata": "{}",
         "name": "load_time",
         "type": "\"timestamp\""
        },
        {
         "metadata": "{}",
         "name": "__START_AT",
         "type": "\"timestamp\""
        },
        {
         "metadata": "{}",
         "name": "__END_AT",
         "type": "\"timestamp\""
        }
       ],
       "type": "table"
      }
     },
     "output_type": "display_data"
    }
   ],
   "source": [
    "%sql\n",
    "select * from ls_dev.ls_demo_db.dlt_customers where customer_id=15311"
   ]
  }
 ],
 "metadata": {
  "application/vnd.databricks.v1+notebook": {
   "dashboards": [],
   "environmentMetadata": null,
   "language": "python",
   "notebookMetadata": {
    "mostRecentlyExecutedCommandWithImplicitDF": {
     "commandId": 2438150795291128,
     "dataframes": [
      "_sqldf"
     ]
    },
    "pythonIndentUnit": 4
   },
   "notebookName": "23-Setup Objects and Dataset for DLT",
   "widgets": {}
  }
 },
 "nbformat": 4,
 "nbformat_minor": 0
}
